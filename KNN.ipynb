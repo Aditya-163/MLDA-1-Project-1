{
  "nbformat": 4,
  "nbformat_minor": 0,
  "metadata": {
    "colab": {
      "name": "KNN.ipynb",
      "provenance": [],
      "collapsed_sections": []
    },
    "kernelspec": {
      "name": "python3",
      "display_name": "Python 3"
    },
    "language_info": {
      "name": "python"
    }
  },
  "cells": [
    {
      "cell_type": "markdown",
      "metadata": {
        "id": "Boj4gv6XLGkT"
      },
      "source": [
        "# Making Necessary Imports:"
      ]
    },
    {
      "cell_type": "code",
      "metadata": {
        "id": "rEgK6t_95uxU"
      },
      "source": [
        "import pandas as pd;\n",
        "\n",
        "import numpy as np;\n",
        "\n",
        "import heapq as hq;\n",
        "\n",
        "from sklearn.preprocessing import LabelEncoder;\n",
        "from sklearn.decomposition import PCA\n",
        "\n",
        "import matplotlib.pyplot as plt\n",
        "\n",
        "# configs:\n",
        "pd.options.display.max_columns = None;"
      ],
      "execution_count": 284,
      "outputs": []
    },
    {
      "cell_type": "markdown",
      "metadata": {
        "id": "DEKjmyz9K0-K"
      },
      "source": [
        "# Initializing the Constants to be Used in The Program: "
      ]
    },
    {
      "cell_type": "code",
      "metadata": {
        "id": "Kzh8lUNOCAfi"
      },
      "source": [
        "# \"adult.data\" file.\n",
        "inputDataURL = \"https://raw.githubusercontent.com/Aditya-163/MLDA-1-Project-1/main/Data/adult.data\"; \n",
        "# \"adult.test\" file.\n",
        "testDataURL = \"https://raw.githubusercontent.com/Aditya-163/MLDA-1-Project-1/main/Data/adult.test\";\n",
        "\n",
        "# Attributes in the data.\n",
        "colNames = [\"age\",\"workclass\",\"fnlwgt\",\"education\",\"education-num\",\"marital-status\",\"occupation\",\"relationship\",\"race\",\"sex\",\"capital-gain\",\"capital-loss\",\"hours-per-week\",\"native-country\",\"income\"]; \n",
        "numAttrs = [\"age\",\"fnlwgt\",\"education-num\",\"capital-gain\",\"capital-loss\",\"hours-per-week\"];\n",
        "nominalAttrs = [\"workclass\",\"education\",\"marital-status\",\"occupation\",\"relationship\",\"race\",\"sex\",\"native-country\",\"income\"];\n",
        "outputAttr = [\"income\"];\n",
        "colNamesWithoutIncome = [\"age\",\"workclass\",\"fnlwgt\",\"education\",\"education-num\",\"marital-status\",\"occupation\",\"relationship\",\"race\",\"sex\",\"capital-gain\",\"capital-loss\",\"hours-per-week\",\"native-country\"];\n",
        "\n",
        "# Number of Nominal Attributes!\n",
        "numOfNominalAttrs = 8; \n",
        "# Number of Ordinal Attributes!\n",
        "numOfOrdinalAttrs = 0;\n",
        "# Number of Numerical Attribute!\n",
        "numOfNumAttrs = 6;"
      ],
      "execution_count": 285,
      "outputs": []
    },
    {
      "cell_type": "markdown",
      "metadata": {
        "id": "4S3mXX0kLPy2"
      },
      "source": [
        "# Reading The Required Data:"
      ]
    },
    {
      "cell_type": "code",
      "metadata": {
        "id": "rwmdGfPN54Nk",
        "colab": {
          "base_uri": "https://localhost:8080/"
        },
        "outputId": "56c3c3a3-2745-4112-c700-2c5e45ff1f7f"
      },
      "source": [
        "# Training Data.\n",
        "inputData = pd.read_csv(inputDataURL, names=colNames);\n",
        "print(\"Some rows from the input data are shown below:\");\n",
        "print(inputData.head());\n",
        "\n",
        "# Test Data.\n",
        "testData = pd.read_csv(testDataURL, names=colNames);"
      ],
      "execution_count": 286,
      "outputs": [
        {
          "output_type": "stream",
          "text": [
            "Some rows from the input data are shown below:\n",
            "   age          workclass  fnlwgt   education  education-num  \\\n",
            "0   39          State-gov   77516   Bachelors             13   \n",
            "1   50   Self-emp-not-inc   83311   Bachelors             13   \n",
            "2   38            Private  215646     HS-grad              9   \n",
            "3   53            Private  234721        11th              7   \n",
            "4   28            Private  338409   Bachelors             13   \n",
            "\n",
            "        marital-status          occupation    relationship    race      sex  \\\n",
            "0        Never-married        Adm-clerical   Not-in-family   White     Male   \n",
            "1   Married-civ-spouse     Exec-managerial         Husband   White     Male   \n",
            "2             Divorced   Handlers-cleaners   Not-in-family   White     Male   \n",
            "3   Married-civ-spouse   Handlers-cleaners         Husband   Black     Male   \n",
            "4   Married-civ-spouse      Prof-specialty            Wife   Black   Female   \n",
            "\n",
            "   capital-gain  capital-loss  hours-per-week  native-country  income  \n",
            "0          2174             0              40   United-States   <=50K  \n",
            "1             0             0              13   United-States   <=50K  \n",
            "2             0             0              40   United-States   <=50K  \n",
            "3             0             0              40   United-States   <=50K  \n",
            "4             0             0              40            Cuba   <=50K  \n"
          ],
          "name": "stdout"
        }
      ]
    },
    {
      "cell_type": "markdown",
      "metadata": {
        "id": "pJg1NGAlLbdh"
      },
      "source": [
        "# Pre-Processing The Data:"
      ]
    },
    {
      "cell_type": "markdown",
      "metadata": {
        "id": "CrGxLkadDwK-"
      },
      "source": [
        "### Process the data points with either missing or inconsistent values!"
      ]
    },
    {
      "cell_type": "code",
      "metadata": {
        "colab": {
          "base_uri": "https://localhost:8080/"
        },
        "id": "2zFbNQhWD5-L",
        "outputId": "759c3e47-1378-44ea-b9ad-ba21d97ec741"
      },
      "source": [
        "# Process the in-complete or inconsistent data!\n",
        "\n",
        "# Removing duplicate data points!\n",
        "# inputData.drop_duplicates(); # How to remove duplicate values?\n",
        "\n",
        "# Removing data points with missing values. \n",
        "inputDataWithUnkownValuesRemoved = inputData;\n",
        "inputDataWithUnkownValuesRemoved = inputDataWithUnkownValuesRemoved[inputDataWithUnkownValuesRemoved['workclass'] != \" ?\"];\n",
        "inputDataWithUnkownValuesRemoved = inputDataWithUnkownValuesRemoved[inputDataWithUnkownValuesRemoved['occupation'] != \" ?\"];\n",
        "inputDataWithUnkownValuesRemoved = inputDataWithUnkownValuesRemoved[inputDataWithUnkownValuesRemoved['native-country'] != \" ?\"]; \n",
        "print(\"Number of Input Data Points:\");\n",
        "print(inputData.shape[0]);\n",
        "\n",
        "inputData = inputDataWithUnkownValuesRemoved;\n",
        "print(\"Number of Input Data Points after data points with unkown values are removed:\");\n",
        "print(inputDataWithUnkownValuesRemoved.shape[0]);"
      ],
      "execution_count": 288,
      "outputs": [
        {
          "output_type": "stream",
          "text": [
            "Number of Input Data Points:\n",
            "32561\n",
            "Number of Input Data Points after data points with unkown values are removed:\n",
            "30162\n"
          ],
          "name": "stdout"
        }
      ]
    },
    {
      "cell_type": "markdown",
      "metadata": {
        "id": "ltSSBF0g-33C"
      },
      "source": [
        "### Normalizing Numerical Data:"
      ]
    },
    {
      "cell_type": "code",
      "metadata": {
        "colab": {
          "base_uri": "https://localhost:8080/"
        },
        "id": "oFyBs15N-_Ke",
        "outputId": "0164525f-dadd-44dd-be30-ba75878031e4"
      },
      "source": [
        "inputDataWithNumericValues = inputData[numAttrs];\n",
        "minValsOfInputDataWithNumericValues = inputData[numAttrs].min();\n",
        "maxValsOfInputDataWithNumericValues = inputData[numAttrs].max();\n",
        "normalizedInputDataWithNumericValues = (inputDataWithNumericValues - minValsOfInputDataWithNumericValues)/(maxValsOfInputDataWithNumericValues - minValsOfInputDataWithNumericValues);\n",
        "inputData[numAttrs] = normalizedInputDataWithNumericValues;\n",
        "print(\"Input Data After Normalizing Numeric Columns:\");\n",
        "print(inputData[numAttrs].head());"
      ],
      "execution_count": 289,
      "outputs": [
        {
          "output_type": "stream",
          "text": [
            "Input Data After Normalizing Numeric Columns:\n",
            "        age    fnlwgt  education-num  capital-gain  capital-loss  \\\n",
            "0  0.301370  0.043338       0.800000       0.02174           0.0   \n",
            "1  0.452055  0.047277       0.800000       0.00000           0.0   \n",
            "2  0.287671  0.137244       0.533333       0.00000           0.0   \n",
            "3  0.493151  0.150212       0.400000       0.00000           0.0   \n",
            "4  0.150685  0.220703       0.800000       0.00000           0.0   \n",
            "\n",
            "   hours-per-week  \n",
            "0        0.397959  \n",
            "1        0.122449  \n",
            "2        0.397959  \n",
            "3        0.397959  \n",
            "4        0.397959  \n"
          ],
          "name": "stdout"
        }
      ]
    },
    {
      "cell_type": "markdown",
      "metadata": {
        "id": "ZJ35bN2_ehLG"
      },
      "source": [
        "### PCA on Numeric Data:"
      ]
    },
    {
      "cell_type": "code",
      "metadata": {
        "colab": {
          "base_uri": "https://localhost:8080/",
          "height": 397
        },
        "id": "XqQeVATZegqD",
        "outputId": "bd071e68-d4bc-4694-d5bc-ce085128fc4e"
      },
      "source": [
        "inputDataWithNumericValues = inputData[numAttrs];\n",
        "pca = PCA(n_components=inputDataWithNumericValues.shape[1])\n",
        "pca.fit(inputDataWithNumericValues)\n",
        "\n",
        "# Reformat and view results\n",
        "loadings = pd.DataFrame(pca.components_.T,\n",
        "columns=['PC%s' % _ for _ in range(len(inputDataWithNumericValues.columns))],\n",
        "index=inputDataWithNumericValues.columns)\n",
        "print(loadings)\n",
        "\n",
        "plt.plot(pca.explained_variance_ratio_);\n",
        "plt.ylabel('Explained Variance');\n",
        "plt.xlabel('Components');\n",
        "plt.show();"
      ],
      "execution_count": 290,
      "outputs": [
        {
          "output_type": "stream",
          "text": [
            "                     PC0       PC1       PC2       PC3       PC4       PC5\n",
            "age             0.888160  0.443016 -0.107533 -0.029764 -0.021204  0.044825\n",
            "fnlwgt         -0.040197  0.003259  0.002356 -0.000644  0.350978  0.935512\n",
            "education-num   0.411770 -0.884596 -0.204466 -0.042939 -0.051402  0.040545\n",
            "capital-gain    0.060823 -0.042908  0.030750 -0.115998  0.927748 -0.345459\n",
            "capital-loss    0.060218 -0.036439  0.037715  0.990755  0.103731 -0.035616\n",
            "hours-per-week  0.180763 -0.134343  0.971729 -0.047110 -0.047397  0.023537\n"
          ],
          "name": "stdout"
        },
        {
          "output_type": "display_data",
          "data": {
            "image/png": "[encoded data removed]",
            "text/plain": [
              "<Figure size 432x288 with 1 Axes>"
            ]
          },
          "metadata": {
            "needs_background": "light"
          }
        }
      ]
    },
    {
      "cell_type": "markdown",
      "metadata": {
        "id": "dNHPR26LDGar"
      },
      "source": [
        "### Encoding the nominal variables!"
      ]
    },
    {
      "cell_type": "code",
      "metadata": {
        "colab": {
          "base_uri": "https://localhost:8080/"
        },
        "id": "G9gQW-ChDMp4",
        "outputId": "a10cf963-5aca-4a1e-a160-1002f68f6407"
      },
      "source": [
        "# Write code to encode the nominal variable classes into useful classes!\n",
        "\n",
        "# sex:\n",
        "sexAttrEncoder = LabelEncoder();\n",
        "sexAttrEncoder.fit(inputData['sex']);\n",
        "encodedSexAttrValues = sexAttrEncoder.transform(inputData['sex']);\n",
        "print(\"sex' attribute values before encoding:\");\n",
        "print(inputData['sex'].head());\n",
        "inputData['sex'] = encodedSexAttrValues; \n",
        "# Encoding: Male = 1, Female = 0;\n",
        "print(\"Encoded 'sex' attribute:\");\n",
        "print(inputData['sex'].head());\n",
        "\n",
        "# income:\n",
        "incomeAttrEncoder = LabelEncoder();\n",
        "incomeAttrEncoder.fit(inputData['income']);\n",
        "encodedIncomeAttrValues = incomeAttrEncoder.transform(inputData['income']);\n",
        "print(\"Income values before encoding:\");\n",
        "print(inputData['income'].head());\n",
        "inputData['income'] = encodedIncomeAttrValues; \n",
        "# Encoding: >50k = 1, <=50K = 0;\n",
        "print(\"Encoded 'income' attribute:\");\n",
        "print(inputData['income'].head());\n"
      ],
      "execution_count": 291,
      "outputs": [
        {
          "output_type": "stream",
          "text": [
            "sex' attribute values before encoding:\n",
            "0       Male\n",
            "1       Male\n",
            "2       Male\n",
            "3       Male\n",
            "4     Female\n",
            "Name: sex, dtype: object\n",
            "Encoded 'sex' attribute:\n",
            "0    1\n",
            "1    1\n",
            "2    1\n",
            "3    1\n",
            "4    0\n",
            "Name: sex, dtype: int64\n",
            "Income values before encoding:\n",
            "0     <=50K\n",
            "1     <=50K\n",
            "2     <=50K\n",
            "3     <=50K\n",
            "4     <=50K\n",
            "Name: income, dtype: object\n",
            "Encoded 'income' attribute:\n",
            "0    0\n",
            "1    0\n",
            "2    0\n",
            "3    0\n",
            "4    0\n",
            "Name: income, dtype: int64\n"
          ],
          "name": "stdout"
        }
      ]
    },
    {
      "cell_type": "markdown",
      "metadata": {
        "id": "xgkr8hUhQ0h5"
      },
      "source": [
        "# Information From the Data:"
      ]
    },
    {
      "cell_type": "code",
      "metadata": {
        "id": "3QbxkwqjQ4xP"
      },
      "source": [
        "# Ouput Some Information Regarding the Data, like: Size of the data, number of atteributes, \n",
        "# number of differen values of each attribue, mean/ median/ mode, number of data points corrected etc.\n",
        "\n",
        "# For Heat maps: https://towardsdatascience.com/better-heatmaps-and-correlation-matrix-plots-in-python-41445d0f2bec"
      ],
      "execution_count": 292,
      "outputs": []
    },
    {
      "cell_type": "markdown",
      "metadata": {
        "id": "rcmN1zgILzMt"
      },
      "source": [
        "# Utility Functions:"
      ]
    },
    {
      "cell_type": "markdown",
      "metadata": {
        "id": "NogRpI9EC87S"
      },
      "source": [
        "**Function to Compute the distance** between 2 data points:\n",
        "\n",
        "The function (**or metric**) used to compute the distance is:\n",
        "\n",
        "**WRITE THE FUNCTION/METRIC USED.**"
      ]
    },
    {
      "cell_type": "code",
      "metadata": {
        "id": "ywB0cUai853c"
      },
      "source": [
        "def distance(testDataRow, inputDataRow):\n",
        "  \n",
        "  dist = 0;\n",
        "\n",
        "  for attr in colNamesWithoutIncome:\n",
        "    break; # Write the actual code!\n",
        "  \n",
        "  return dist;\n"
      ],
      "execution_count": 293,
      "outputs": []
    },
    {
      "cell_type": "markdown",
      "metadata": {
        "id": "5axTJ0kMMAfj"
      },
      "source": [
        "**Function to Classify** a test data point:"
      ]
    },
    {
      "cell_type": "code",
      "metadata": {
        "id": "onBp4OkMIPGV"
      },
      "source": [
        "def classify(k, testDataRow, inputData):\n",
        "  \n",
        "  distances = list();\n",
        "  hq.heapify(distances);\n",
        "  computationNumber = 0;\n",
        "\n",
        "  for index, inputDataRow in inputData.iterrows():\n",
        "    distBtwPoints = distance(testDataRow,inputDataRow);\n",
        "    hq.heappush(distances,(distBtwPoints, computationNumber, inputDataPoint[\"income\"]));\n",
        "    computationNumber = cumputationNumber + 1;\n",
        "\n",
        "  numOfNNWithLessIncome = 0;\n",
        "  numOfNNWithMoreIncome = 0;\n",
        "\n",
        "  for i in range(k):\n",
        "    heapTuple = hq.heappop(distances);\n",
        "    if heapTuple[2] == encodedGreaterThanFTK:\n",
        "      numOfNNWithMoreIncome = numOfNNWithMoreIncome + 1;\n",
        "    else:\n",
        "      numOfNNWithLessIncome = numOfNNWithLessIncome + 1;\n",
        "  \n",
        "  if numOfNNWithLessIncome >= numOfNNWithMoreIncome:\n",
        "    return encodedLessThanOrEqualFTK;\n",
        "  else:\n",
        "    return encodedGreaterThanFTK;\n",
        "    "
      ],
      "execution_count": 294,
      "outputs": []
    },
    {
      "cell_type": "markdown",
      "metadata": {
        "id": "6WTXgqlrMGtK"
      },
      "source": [
        "**Function to perfrom KNN** classification for a given k, input data and the test data:"
      ]
    },
    {
      "cell_type": "code",
      "metadata": {
        "id": "D43_Ii-lHFeK"
      },
      "source": [
        "def knn(k,testData,inputData):\n",
        "\n",
        "  correctClassifications = 0;\n",
        "  wrongClassifications = 0;\n",
        "\n",
        "  for index, testDataRow in testData.iterrows():\n",
        "    classifiedClass = classify(k,testDataRow,inputData);\n",
        "    if classifiedClass == testDataRow[\"income\"]:\n",
        "      correctClassifications = correctClassifications + 1;\n",
        "    else:\n",
        "      wrongClassifications = wrongClassifications + 1;\n",
        "\n",
        "  accuracy = (correctClassifications*100)/(correctClassifications + wrongClassifications);\n",
        "  return accuracy;\n",
        "  "
      ],
      "execution_count": 295,
      "outputs": []
    },
    {
      "cell_type": "markdown",
      "metadata": {
        "id": "CCzwe9FVMYPv"
      },
      "source": [
        "**Function to Output the Results:**"
      ]
    },
    {
      "cell_type": "code",
      "metadata": {
        "id": "fu-T4pkbJjno"
      },
      "source": [
        "def showResults(accuracyAndKData): # accuracyAndKData should be of the form = (k,accuracyForK)\n",
        "\n",
        "  print(\"The observed accuracies of the k-NN classifier for different values of k are plotted below:\");\n",
        "  # Make a plot of k vs accuracy!\n",
        "\n",
        "  return ;\n"
      ],
      "execution_count": 296,
      "outputs": []
    },
    {
      "cell_type": "markdown",
      "metadata": {
        "id": "RTfQ1fG_NFXg"
      },
      "source": [
        "# Main (or the driver) code:"
      ]
    },
    {
      "cell_type": "markdown",
      "metadata": {
        "id": "h_V0D0bqI-_C"
      },
      "source": [
        "This is the **main** Python code that makes use of above funtions to perfrom KNN based classification with multiple different values of k."
      ]
    },
    {
      "cell_type": "code",
      "metadata": {
        "id": "B5Jg9TasC6WO"
      },
      "source": [
        "def main():\n",
        "\n",
        "  kAndAccuracy = list();\n",
        "  \n",
        "  kMin = 2;\n",
        "  kStep = 2;\n",
        "  kMax = 100;\n",
        "  \n",
        "  for k in range(kMin,kStep,kMax):\n",
        "    accuracy = knn(k,testData,inputData);\n",
        "    kAndAccuracy.append((k,accuracy));\n",
        "\n",
        "  showResults(kAndAccuracy);\n",
        "  \n",
        "  return ;\n",
        "  "
      ],
      "execution_count": 297,
      "outputs": []
    },
    {
      "cell_type": "markdown",
      "metadata": {
        "id": "2mdCB2YjONCy"
      },
      "source": [
        "# Calling The Main Function:"
      ]
    },
    {
      "cell_type": "code",
      "metadata": {
        "colab": {
          "base_uri": "https://localhost:8080/"
        },
        "id": "4askg0HNOLhL",
        "outputId": "b3505983-2a22-4583-9142-154ba4513e20"
      },
      "source": [
        "main();\n"
      ],
      "execution_count": 298,
      "outputs": [
        {
          "output_type": "stream",
          "text": [
            "The observed accuracies of the k-NN classifier for different values of k are plotted below:\n"
          ],
          "name": "stdout"
        }
      ]
    }
  ]
}