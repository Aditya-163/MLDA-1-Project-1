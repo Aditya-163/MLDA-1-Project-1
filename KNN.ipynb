{
  "nbformat": 4,
  "nbformat_minor": 0,
  "metadata": {
    "colab": {
      "name": "KNN.ipynb",
      "provenance": [],
      "collapsed_sections": []
    },
    "kernelspec": {
      "name": "python3",
      "display_name": "Python 3"
    },
    "language_info": {
      "name": "python"
    }
  },
  "cells": [
    {
      "cell_type": "markdown",
      "metadata": {
        "id": "Boj4gv6XLGkT"
      },
      "source": [
        "# Making Necessary Imports:"
      ]
    },
    {
      "cell_type": "code",
      "metadata": {
        "id": "yMhvMLLlEZxt"
      },
      "source": [
        "!pip install dython\n",
        "!pip install plotly"
      ],
      "execution_count": null,
      "outputs": []
    },
    {
      "cell_type": "code",
      "metadata": {
        "id": "rEgK6t_95uxU"
      },
      "source": [
        "import pandas as pd;\n",
        "\n",
        "import numpy as np;\n",
        "\n",
        "from sklearn.preprocessing import LabelEncoder;\n",
        "from sklearn.decomposition import PCA;\n",
        "\n",
        "import matplotlib.pyplot as plt;\n",
        "\n",
        "import seaborn as sns;\n",
        "\n",
        "from sklearn import preprocessing;\n",
        "from sklearn.preprocessing import OneHotEncoder;\n",
        "from sklearn.neighbors import KNeighborsClassifier;\n",
        "from sklearn.model_selection import train_test_split;\n",
        "\n",
        "from dython import nominal;\n",
        "\n",
        "# configs:\n",
        "pd.options.display.max_columns = None;"
      ],
      "execution_count": null,
      "outputs": []
    },
    {
      "cell_type": "markdown",
      "metadata": {
        "id": "DEKjmyz9K0-K"
      },
      "source": [
        "# Initializing the Constants to be Used in The Program: "
      ]
    },
    {
      "cell_type": "code",
      "metadata": {
        "id": "Kzh8lUNOCAfi"
      },
      "source": [
        "# \"adult.data\" file.\n",
        "inputDataURL = \"https://raw.githubusercontent.com/Aditya-163/MLDA-1-Project-1/main/Data/adult.data\"; \n",
        "# \"adult.test\" file.\n",
        "testDataURL = \"https://raw.githubusercontent.com/Aditya-163/MLDA-1-Project-1/main/Data/adult.test\";\n",
        "\n",
        "# Attributes in the data.\n",
        "allAttrs = [\"age\",\"workclass\",\"fnlwgt\",\"education\",\"education-num\",\"marital-status\",\"occupation\",\"relationship\",\"race\",\"sex\",\"capital-gain\",\"capital-loss\",\"hours-per-week\",\"native-country\",\"income\"]; \n",
        "xAttrs = [\"age\",\"workclass\",\"fnlwgt\",\"education\",\"education-num\",\"marital-status\",\"occupation\",\"relationship\",\"race\",\"sex\",\"capital-gain\",\"capital-loss\",\"hours-per-week\",\"native-country\"];\n",
        "yAttrs = [\"income\"];\n",
        "\n",
        "# Numerical Attributes:\n",
        "numXAttrs = [\"age\",\"fnlwgt\",\"education-num\",\"capital-gain\",\"capital-loss\",\"hours-per-week\"];\n",
        "\n",
        "# Nominal Attributes:\n",
        "nominalXAttrs = [\"workclass\",\"education\",\"marital-status\",\"occupation\",\"relationship\",\"race\",\"sex\",\"native-country\"];"
      ],
      "execution_count": null,
      "outputs": []
    },
    {
      "cell_type": "markdown",
      "metadata": {
        "id": "4S3mXX0kLPy2"
      },
      "source": [
        "# Reading The Required Data:"
      ]
    },
    {
      "cell_type": "code",
      "metadata": {
        "id": "rwmdGfPN54Nk"
      },
      "source": [
        "# Training Data.\n",
        "inputData = pd.read_csv(inputDataURL, names=allAttrs, na_values=\" ?\");\n",
        "inputData = inputData.dropna();\n",
        "print(\"Some rows from the input data are shown below:\");\n",
        "print(inputData.head());\n",
        "\n",
        "# Test Data.\n",
        "testData = pd.read_csv(testDataURL, names=allAttrs, na_values=\" ?\");\n",
        "testData = testData.dropna();\n",
        "\n",
        "# Concataneted Data\n",
        "data = pd.concat([inputData,testData]);"
      ],
      "execution_count": null,
      "outputs": []
    },
    {
      "cell_type": "markdown",
      "metadata": {
        "id": "pJg1NGAlLbdh"
      },
      "source": [
        "# Pre-Processing and Visualizing The Data:"
      ]
    },
    {
      "cell_type": "markdown",
      "metadata": {
        "id": "ltSSBF0g-33C"
      },
      "source": [
        "### Normalizing Numerical Data:"
      ]
    },
    {
      "cell_type": "code",
      "metadata": {
        "id": "oFyBs15N-_Ke"
      },
      "source": [
        "data[numXAttrs] = preprocessing.MinMaxScaler().fit_transform(data[numXAttrs]);"
      ],
      "execution_count": null,
      "outputs": []
    },
    {
      "cell_type": "markdown",
      "metadata": {
        "id": "MPjsQ-LHUC0J"
      },
      "source": [
        "### Scatter Plot of The  Data:"
      ]
    },
    {
      "cell_type": "code",
      "metadata": {
        "id": "FrFUpHG_UHqx"
      },
      "source": [
        "numData = data[numXAttrs];\n",
        "sns.pairplot(numData,markers=\"o\",corner=True);"
      ],
      "execution_count": null,
      "outputs": []
    },
    {
      "cell_type": "markdown",
      "metadata": {
        "id": "DzLQMxBIjPi_"
      },
      "source": [
        "### Visualizing Categorical Data:"
      ]
    },
    {
      "cell_type": "code",
      "metadata": {
        "id": "wrEtmhP-jT2T"
      },
      "source": [
        "axNomi = data[nominalXAttrs[0]].value_counts().plot(kind='bar');\n",
        "axNomi.set_title(\"Attribute:\" + nominalXAttrs[0]);\n",
        "axNomi.plot();"
      ],
      "execution_count": null,
      "outputs": []
    },
    {
      "cell_type": "code",
      "metadata": {
        "id": "GJ_WnBrEqPHY"
      },
      "source": [
        "axNomi = data[nominalXAttrs[1]].value_counts().plot(kind='bar');\n",
        "axNomi.set_title(\"Attribute:\" + nominalXAttrs[1]);\n",
        "axNomi.plot();"
      ],
      "execution_count": null,
      "outputs": []
    },
    {
      "cell_type": "code",
      "metadata": {
        "id": "JJiTmtKtqY-X"
      },
      "source": [
        "axNomi = data[nominalXAttrs[2]].value_counts().plot(kind='bar');\n",
        "axNomi.set_title(\"Attribute:\" + nominalXAttrs[2]);\n",
        "axNomi.plot();"
      ],
      "execution_count": null,
      "outputs": []
    },
    {
      "cell_type": "code",
      "metadata": {
        "id": "MuB4Yw4YqbaD"
      },
      "source": [
        "axNomi = data[nominalXAttrs[3]].value_counts().plot(kind='bar');\n",
        "axNomi.set_title(\"Attribute:\" + nominalXAttrs[3]);\n",
        "axNomi.plot();"
      ],
      "execution_count": null,
      "outputs": []
    },
    {
      "cell_type": "code",
      "metadata": {
        "id": "BfTd9Pktqd28"
      },
      "source": [
        "axNomi = data[nominalXAttrs[4]].value_counts().plot(kind='bar');\n",
        "axNomi.set_title(\"Attribute:\" + nominalXAttrs[4]);\n",
        "axNomi.plot();"
      ],
      "execution_count": null,
      "outputs": []
    },
    {
      "cell_type": "code",
      "metadata": {
        "id": "Wwb0rHnZqhNu"
      },
      "source": [
        "axNomi = data[nominalXAttrs[5]].value_counts().plot(kind='bar');\n",
        "axNomi.set_title(\"Attribute:\" + nominalXAttrs[5]);\n",
        "axNomi.plot();"
      ],
      "execution_count": null,
      "outputs": []
    },
    {
      "cell_type": "code",
      "metadata": {
        "id": "tkaOXFNoqmDk"
      },
      "source": [
        "axNomi = data[nominalXAttrs[6]].value_counts().plot(kind='bar');\n",
        "axNomi.set_title(\"Attribute:\" + nominalXAttrs[6]);\n",
        "axNomi.plot();"
      ],
      "execution_count": null,
      "outputs": []
    },
    {
      "cell_type": "code",
      "metadata": {
        "id": "UML5GVhbqqzV"
      },
      "source": [
        "axNomi = data[nominalXAttrs[7]].value_counts().plot(kind='bar');\n",
        "axNomi.set_title(\"Attribute:\" + nominalXAttrs[7]);\n",
        "axNomi.plot();\n",
        "axNomi.figure.set_size_inches(20,10);"
      ],
      "execution_count": null,
      "outputs": []
    },
    {
      "cell_type": "markdown",
      "metadata": {
        "id": "a6iNncNXEwhY"
      },
      "source": [
        "### Splitting The Input and Output Parts in the data:"
      ]
    },
    {
      "cell_type": "code",
      "metadata": {
        "id": "I0OEG7JRE1Pq"
      },
      "source": [
        "X = data[xAttrs];\n",
        "X.reset_index(drop=True, inplace=True);\n",
        "\n",
        "Y = data[yAttrs];\n",
        "Y = Y.replace(to_replace =[\" <=50K\",\" <=50K.\"], value =\"<=50K\");\n",
        "Y = Y.replace(to_replace =[\" >50K\",\" >50K.\"], value =\">50K\");\n",
        "Y.reset_index(drop=True, inplace=True);"
      ],
      "execution_count": null,
      "outputs": []
    },
    {
      "cell_type": "markdown",
      "metadata": {
        "id": "TNDOwPnU4YIz"
      },
      "source": [
        "### PCA On Numerical Data:"
      ]
    },
    {
      "cell_type": "code",
      "metadata": {
        "id": "DBHXwulD4b1v"
      },
      "source": [
        "Ypca = Y;\n",
        "\n",
        "pca = PCA(0.90);\n",
        "pca.fit(X[numXAttrs]);\n",
        "XDimReduced = pca.transform(X[numXAttrs]);\n",
        "\n",
        "print(\"Number of PCs for explaining the required variance is:\");\n",
        "print(XDimReduced.shape[1]);\n",
        "\n",
        "# Scree Plot!\n",
        "plt.plot(pca.explained_variance_ratio_);\n",
        "plt.ylabel('Explained Variance');\n",
        "plt.xlabel('Components');\n",
        "plt.title(\"Scree Plot:\")\n",
        "plt.show();\n",
        "\n",
        "\n",
        "Xpca = pd.DataFrame({'PC1':XDimReduced[:,0], 'PC2':XDimReduced[:,1], 'PC3':XDimReduced[:,2], 'PC4':XDimReduced[:,3], 'PC5':XDimReduced[:,4]});\n",
        "\n",
        "Xpca = pd.concat([X,Xpca],axis=1);\n",
        "XpcaAttrs = nominalXAttrs + [\"PC1\",\"PC2\",\"PC3\",\"PC4\",\"PC5\"];\n",
        "Xpca = Xpca[XpcaAttrs];\n",
        "print(\"Input data after reducing dimensions using PCA:\");\n",
        "print(Xpca.head());"
      ],
      "execution_count": null,
      "outputs": []
    },
    {
      "cell_type": "markdown",
      "metadata": {
        "id": "ZEhu9m4aELjx"
      },
      "source": [
        "### Correlation Between Nominal Variables:"
      ]
    },
    {
      "cell_type": "code",
      "metadata": {
        "id": "NeMrkfiQEPjA",
        "colab": {
          "base_uri": "https://localhost:8080/",
          "height": 1000
        },
        "outputId": "a47b2620-9874-4830-d2ac-9e1b2c0643e9"
      },
      "source": [
        "XWithNominalAttrs = X[nominalXAttrs];\n",
        "correlationMatrixForNominalData = nominal.associations(XWithNominalAttrs, nominal_columns='all'); # Uses Correlation Ratio for finding the correlation!\n",
        "\n",
        "# sex (gender) and relationship have a correlation of 0.65, hence eliminating relationship attribute from our data!\n",
        "XpcaAttrs.remove('relationship');\n",
        "Xpca = Xpca[XpcaAttrs];\n",
        "XpcaAttrs.append('relationship');\n",
        "print(\"Input data after reducing dimensions using PCA and Correlation:\");\n",
        "print(Xpca.head());\n",
        "\n",
        "# Ref: https://github.com/shakedzy/dython/issues/2"
      ],
      "execution_count": null,
      "outputs": [
        {
          "output_type": "display_data",
          "data": {
            "image/png": "[encoded data removed]",
            "text/plain": [
              "<Figure size 432x288 with 2 Axes>"
            ]
          },
          "metadata": {
            "needs_background": "light"
          }
        },
        {
          "output_type": "stream",
          "text": [
            "The above heatmap in matrix form:\n",
            "{'corr':                 workclass  education  marital-status  occupation  \\\n",
            "workclass        1.000000   0.108200        0.076566    0.216289   \n",
            "education        0.108200   1.000000        0.083590    0.195865   \n",
            "marital-status   0.076566   0.083590        1.000000    0.129309   \n",
            "occupation       0.216289   0.195865        0.129309    1.000000   \n",
            "relationship     0.087911   0.115778        0.487024    0.176141   \n",
            "race             0.058520   0.070657        0.081025    0.080087   \n",
            "sex              0.143487   0.087200        0.464838    0.435405   \n",
            "native-country   0.038668   0.131094        0.059984    0.066240   \n",
            "\n",
            "                relationship      race       sex  native-country  \n",
            "workclass           0.087911  0.058520  0.143487        0.038668  \n",
            "education           0.115778  0.070657  0.087200        0.131094  \n",
            "marital-status      0.487024  0.081025  0.464838        0.059984  \n",
            "occupation          0.176141  0.080087  0.435405        0.066240  \n",
            "relationship        1.000000  0.096284  0.648626        0.075108  \n",
            "race                0.096284  1.000000  0.116684        0.416009  \n",
            "sex                 0.648626  0.116684  1.000000        0.057021  \n",
            "native-country      0.075108  0.416009  0.057021        1.000000  , 'ax': <matplotlib.axes._subplots.AxesSubplot object at 0x7f4d8e2f9a90>}\n",
            "Input data after reducing dimensions using PCA and Correlation:\n",
            "           workclass   education       marital-status          occupation  \\\n",
            "0          State-gov   Bachelors        Never-married        Adm-clerical   \n",
            "1   Self-emp-not-inc   Bachelors   Married-civ-spouse     Exec-managerial   \n",
            "2            Private     HS-grad             Divorced   Handlers-cleaners   \n",
            "3            Private        11th   Married-civ-spouse   Handlers-cleaners   \n",
            "4            Private   Bachelors   Married-civ-spouse      Prof-specialty   \n",
            "\n",
            "     race      sex  native-country       PC1       PC2       PC3       PC4  \\\n",
            "0   White     Male   United-States  0.076161 -0.170391 -0.049102 -0.030266   \n",
            "1   White     Male   United-States  0.164323 -0.072032 -0.334267 -0.018274   \n",
            "2   White     Male   United-States -0.038107  0.067419  0.005250 -0.014663   \n",
            "3   Black     Male   United-States  0.100120  0.269258  0.009311 -0.014516   \n",
            "4   Black   Female            Cuba -0.069226 -0.227917 -0.032372 -0.021670   \n",
            "\n",
            "        PC5  \n",
            "0 -0.014547  \n",
            "1 -0.024143  \n",
            "2 -0.005146  \n",
            "3 -0.001247  \n",
            "4 -0.005135  \n"
          ],
          "name": "stdout"
        }
      ]
    },
    {
      "cell_type": "markdown",
      "metadata": {
        "id": "0FxYxq90PLBV"
      },
      "source": [
        "### Encoding Ordinal Data:"
      ]
    },
    {
      "cell_type": "code",
      "metadata": {
        "id": "VGaTF_QzTuwA",
        "colab": {
          "base_uri": "https://localhost:8080/"
        },
        "outputId": "65fcf65f-66b6-4ab6-a511-c8f4b2ab7026"
      },
      "source": [
        "X = pd.get_dummies(X,drop_first=True);\n",
        "Y = pd.get_dummies(Y,drop_first=True);\n",
        "X.reset_index(drop=True, inplace=True);\n",
        "Y.reset_index(drop=True, inplace=True);\n",
        "print(\"X shape:\");\n",
        "print(X.shape);\n",
        "print(\"X dtypes:\");\n",
        "print(X.dtypes);\n",
        "print(\"Y shape:\");\n",
        "print(Y.shape);\n",
        "print(\"Y dtypes:\");\n",
        "print(Y.dtypes);\n",
        "\n",
        "Xpca = pd.get_dummies(Xpca,drop_first=True);\n",
        "Ypca = pd.get_dummies(Ypca,drop_first=True);\n",
        "Xpca.reset_index(drop=True, inplace=True);\n",
        "Ypca.reset_index(drop=True, inplace=True);\n",
        "print(\"Xpca shape:\");\n",
        "print(Xpca.shape);\n",
        "print(\"Xpca dtypes:\");\n",
        "print(Xpca.dtypes);\n",
        "print(\"Ypca shape:\");\n",
        "print(Ypca.shape);\n",
        "print(\"Ypca dtypes:\");\n",
        "print(Ypca.dtypes);"
      ],
      "execution_count": null,
      "outputs": [
        {
          "output_type": "stream",
          "text": [
            "X shape:\n",
            "(45222, 96)\n",
            "X dtypes:\n",
            "age                                float64\n",
            "fnlwgt                             float64\n",
            "education-num                      float64\n",
            "capital-gain                       float64\n",
            "capital-loss                       float64\n",
            "                                    ...   \n",
            "native-country_ Thailand             uint8\n",
            "native-country_ Trinadad&Tobago      uint8\n",
            "native-country_ United-States        uint8\n",
            "native-country_ Vietnam              uint8\n",
            "native-country_ Yugoslavia           uint8\n",
            "Length: 96, dtype: object\n",
            "Y shape:\n",
            "(45222, 1)\n",
            "Y dtypes:\n",
            "income_>50K    uint8\n",
            "dtype: object\n",
            "Xpca shape:\n",
            "(45222, 90)\n",
            "Xpca dtypes:\n",
            "PC1                                float64\n",
            "PC2                                float64\n",
            "PC3                                float64\n",
            "PC4                                float64\n",
            "PC5                                float64\n",
            "                                    ...   \n",
            "native-country_ Thailand             uint8\n",
            "native-country_ Trinadad&Tobago      uint8\n",
            "native-country_ United-States        uint8\n",
            "native-country_ Vietnam              uint8\n",
            "native-country_ Yugoslavia           uint8\n",
            "Length: 90, dtype: object\n",
            "Ypca shape:\n",
            "(45222, 1)\n",
            "Ypca dtypes:\n",
            "income_>50K    uint8\n",
            "dtype: object\n"
          ],
          "name": "stdout"
        }
      ]
    },
    {
      "cell_type": "markdown",
      "metadata": {
        "id": "_5tJ6MfWaMTi"
      },
      "source": [
        "# KNN (Without Using PCA and Correlation):"
      ]
    },
    {
      "cell_type": "code",
      "metadata": {
        "id": "_VghyiOraOly",
        "colab": {
          "base_uri": "https://localhost:8080/"
        },
        "outputId": "f6dbfee1-3ffb-4eec-d7f1-7466ec28470b"
      },
      "source": [
        "XTrain, XTest, YTrain, YTest = train_test_split(X, Y, test_size = 0.33, random_state=42);\n",
        "\n",
        "kValues = [2,10,50,100,250,500,1000];\n",
        "accuracies = list();\n",
        "\n",
        "for k in kValues:\n",
        "  KNN = KNeighborsClassifier(n_neighbors=k);\n",
        "  KNN.fit(XTrain, YTrain);\n",
        "  accuracies.append(KNN.score(XTest, YTest));\n",
        "\n",
        "fig, ax = plt.subplots(1)\n",
        "\n",
        "xAxisData = np.array(kValues)\n",
        "yAxisData = np.array(accuracies);\n",
        "yAxisData = yAxisData*100;\n",
        "\n",
        "ax.plot(xAxisData,yAxisData);\n",
        " \n",
        "ax.set_xticks(kValues);\n",
        "ax.set_xticklabels(kValues);\n",
        "\n",
        "ax.set_xlabel(\"k\");\n",
        "ax.set_ylabel(\"Accuracy (in %)\");\n",
        "ax.set_title(\"kNN Before Dim. Reduction:\");"
      ],
      "execution_count": null,
      "outputs": [
        {
          "metadata": {
            "tags": null
          },
          "name": "stderr",
          "output_type": "stream",
          "text": [
            "/usr/local/lib/python3.7/dist-packages/ipykernel_launcher.py:8: DataConversionWarning:\n",
            "\n",
            "A column-vector y was passed when a 1d array was expected. Please change the shape of y to (n_samples, ), for example using ravel().\n",
            "\n",
            "/usr/local/lib/python3.7/dist-packages/ipykernel_launcher.py:8: DataConversionWarning:\n",
            "\n",
            "A column-vector y was passed when a 1d array was expected. Please change the shape of y to (n_samples, ), for example using ravel().\n",
            "\n",
            "/usr/local/lib/python3.7/dist-packages/ipykernel_launcher.py:8: DataConversionWarning:\n",
            "\n",
            "A column-vector y was passed when a 1d array was expected. Please change the shape of y to (n_samples, ), for example using ravel().\n",
            "\n",
            "/usr/local/lib/python3.7/dist-packages/ipykernel_launcher.py:8: DataConversionWarning:\n",
            "\n",
            "A column-vector y was passed when a 1d array was expected. Please change the shape of y to (n_samples, ), for example using ravel().\n",
            "\n",
            "/usr/local/lib/python3.7/dist-packages/ipykernel_launcher.py:8: DataConversionWarning:\n",
            "\n",
            "A column-vector y was passed when a 1d array was expected. Please change the shape of y to (n_samples, ), for example using ravel().\n",
            "\n"
          ]
        }
      ]
    },
    {
      "cell_type": "markdown",
      "metadata": {
        "id": "WxB-pfzS0g-4"
      },
      "source": [
        "# KNN (With Using PCA and Correlation):\n",
        "\n"
      ]
    },
    {
      "cell_type": "code",
      "metadata": {
        "id": "ouGmpaehJEM7"
      },
      "source": [
        "XpcaTrain, XpcaTest, YpcaTrain, YpcaTest = train_test_split(Xpca, Ypca, test_size = 0.33, random_state=42);\n",
        "\n",
        "print(XpcaTrain.shape);\n",
        "print(XpcaTest.shape);\n",
        "print(YpcaTrain.shape);\n",
        "print(YpcaTest.shape);\n",
        "\n",
        "\n",
        "kValues = [2,10,50,100,250,500,1000];\n",
        "accuracies = list();\n",
        "\n",
        "for k in kValues:\n",
        "  KNN = KNeighborsClassifier(n_neighbors=k);\n",
        "  KNN.fit(XpcaTrain, YpcaTrain);\n",
        "  accuracies.append(KNN.score(XpcaTest, YpcaTest));\n",
        "\n",
        "fig, ax = plt.subplots(1)\n",
        "\n",
        "xAxisData = np.array(kValues)\n",
        "yAxisData = np.array(accuracies);\n",
        "yAxisData = yAxisData*100;\n",
        "\n",
        "ax.plot(xAxisData,yAxisData);\n",
        " \n",
        "ax.set_xticks(kValues);\n",
        "ax.set_xticklabels(kValues);\n",
        "\n",
        "ax.set_xlabel(\"k\");\n",
        "ax.set_ylabel(\"Accuracy (in %)\");\n",
        "ax.set_title(\"kNN After Dim. Reduction:\");"
      ],
      "execution_count": null,
      "outputs": []
    }
  ]
}