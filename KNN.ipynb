{
  "nbformat": 4,
  "nbformat_minor": 0,
  "metadata": {
    "colab": {
      "name": "KNN.ipynb",
      "provenance": [],
      "collapsed_sections": []
    },
    "kernelspec": {
      "name": "python3",
      "display_name": "Python 3"
    },
    "language_info": {
      "name": "python"
    }
  },
  "cells": [
    {
      "cell_type": "markdown",
      "metadata": {
        "id": "Boj4gv6XLGkT"
      },
      "source": [
        "# Making Necessary Imports:"
      ]
    },
    {
      "cell_type": "code",
      "metadata": {
        "colab": {
          "base_uri": "https://localhost:8080/"
        },
        "id": "yMhvMLLlEZxt",
        "outputId": "edfd2758-25c7-42cd-879d-a0fb04c643be"
      },
      "source": [
        "!pip install dython"
      ],
      "execution_count": 521,
      "outputs": [
        {
          "output_type": "stream",
          "text": [
            "Requirement already satisfied: dython in /usr/local/lib/python3.7/dist-packages (0.6.7)\n",
            "Requirement already satisfied: matplotlib in /usr/local/lib/python3.7/dist-packages (from dython) (3.2.2)\n",
            "Requirement already satisfied: pandas>=0.23.4 in /usr/local/lib/python3.7/dist-packages (from dython) (1.1.5)\n",
            "Requirement already satisfied: numpy in /usr/local/lib/python3.7/dist-packages (from dython) (1.19.5)\n",
            "Requirement already satisfied: seaborn in /usr/local/lib/python3.7/dist-packages (from dython) (0.11.1)\n",
            "Requirement already satisfied: scikit-plot>=0.3.7 in /usr/local/lib/python3.7/dist-packages (from dython) (0.3.7)\n",
            "Requirement already satisfied: scikit-learn in /usr/local/lib/python3.7/dist-packages (from dython) (0.22.2.post1)\n",
            "Requirement already satisfied: scipy in /usr/local/lib/python3.7/dist-packages (from dython) (1.4.1)\n",
            "Requirement already satisfied: python-dateutil>=2.7.3 in /usr/local/lib/python3.7/dist-packages (from pandas>=0.23.4->dython) (2.8.2)\n",
            "Requirement already satisfied: pytz>=2017.2 in /usr/local/lib/python3.7/dist-packages (from pandas>=0.23.4->dython) (2018.9)\n",
            "Requirement already satisfied: six>=1.5 in /usr/local/lib/python3.7/dist-packages (from python-dateutil>=2.7.3->pandas>=0.23.4->dython) (1.15.0)\n",
            "Requirement already satisfied: joblib>=0.10 in /usr/local/lib/python3.7/dist-packages (from scikit-plot>=0.3.7->dython) (1.0.1)\n",
            "Requirement already satisfied: cycler>=0.10 in /usr/local/lib/python3.7/dist-packages (from matplotlib->dython) (0.10.0)\n",
            "Requirement already satisfied: kiwisolver>=1.0.1 in /usr/local/lib/python3.7/dist-packages (from matplotlib->dython) (1.3.1)\n",
            "Requirement already satisfied: pyparsing!=2.0.4,!=2.1.2,!=2.1.6,>=2.0.1 in /usr/local/lib/python3.7/dist-packages (from matplotlib->dython) (2.4.7)\n"
          ],
          "name": "stdout"
        }
      ]
    },
    {
      "cell_type": "code",
      "metadata": {
        "id": "rEgK6t_95uxU"
      },
      "source": [
        "import pandas as pd;\n",
        "\n",
        "import numpy as np;\n",
        "\n",
        "from sklearn.preprocessing import LabelEncoder;\n",
        "from sklearn.decomposition import PCA;\n",
        "\n",
        "import matplotlib.pyplot as plt;\n",
        "\n",
        "import seaborn as sns;\n",
        "\n",
        "from sklearn import preprocessing;\n",
        "from sklearn.preprocessing import OneHotEncoder;\n",
        "from sklearn.neighbors import KNeighborsClassifier;\n",
        "from sklearn.model_selection import train_test_split;\n",
        "\n",
        "from dython import nominal;\n",
        "\n",
        "# configs:\n",
        "pd.options.display.max_columns = None;"
      ],
      "execution_count": 522,
      "outputs": []
    },
    {
      "cell_type": "markdown",
      "metadata": {
        "id": "DEKjmyz9K0-K"
      },
      "source": [
        "# Initializing the Constants to be Used in The Program: "
      ]
    },
    {
      "cell_type": "code",
      "metadata": {
        "id": "Kzh8lUNOCAfi"
      },
      "source": [
        "# \"adult.data\" file.\n",
        "inputDataURL = \"https://raw.githubusercontent.com/Aditya-163/MLDA-1-Project-1/main/Data/adult.data\"; \n",
        "# \"adult.test\" file.\n",
        "testDataURL = \"https://raw.githubusercontent.com/Aditya-163/MLDA-1-Project-1/main/Data/adult.test\";\n",
        "\n",
        "# Attributes in the data.\n",
        "allAttrs = [\"age\",\"workclass\",\"fnlwgt\",\"education\",\"education-num\",\"marital-status\",\"occupation\",\"relationship\",\"race\",\"sex\",\"capital-gain\",\"capital-loss\",\"hours-per-week\",\"native-country\",\"income\"]; \n",
        "xAttrs = [\"age\",\"workclass\",\"fnlwgt\",\"education\",\"education-num\",\"marital-status\",\"occupation\",\"relationship\",\"race\",\"sex\",\"capital-gain\",\"capital-loss\",\"hours-per-week\",\"native-country\"];\n",
        "yAttrs = [\"income\"];\n",
        "\n",
        "# Numerical Attributes:\n",
        "numXAttrs = [\"age\",\"fnlwgt\",\"education-num\",\"capital-gain\",\"capital-loss\",\"hours-per-week\"];\n",
        "\n",
        "# Nominal Attributes:\n",
        "nominalXAttrs = [\"workclass\",\"education\",\"marital-status\",\"occupation\",\"relationship\",\"race\",\"sex\",\"native-country\"];"
      ],
      "execution_count": 523,
      "outputs": []
    },
    {
      "cell_type": "markdown",
      "metadata": {
        "id": "4S3mXX0kLPy2"
      },
      "source": [
        "# Reading The Required Data:"
      ]
    },
    {
      "cell_type": "code",
      "metadata": {
        "id": "rwmdGfPN54Nk"
      },
      "source": [
        "# Training Data.\n",
        "inputData = pd.read_csv(inputDataURL, names=colNames, na_values=\" ?\");\n",
        "inputData = inputData.dropna();\n",
        "print(\"Some rows from the input data are shown below:\");\n",
        "print(inputData.head());\n",
        "\n",
        "# Test Data.\n",
        "testData = pd.read_csv(testDataURL, names=colNames, na_values=\" ?\");\n",
        "testData = testData.dropna();\n",
        "\n",
        "# Concataneted Data\n",
        "data = pd.concat([inputData,testData]);"
      ],
      "execution_count": null,
      "outputs": []
    },
    {
      "cell_type": "markdown",
      "metadata": {
        "id": "yQUAyz6fUzuz"
      },
      "source": [
        "# Some Visualizations From Data:"
      ]
    },
    {
      "cell_type": "code",
      "metadata": {
        "id": "rZg3IIN5U6dZ"
      },
      "source": [
        ""
      ],
      "execution_count": 527,
      "outputs": []
    },
    {
      "cell_type": "markdown",
      "metadata": {
        "id": "pJg1NGAlLbdh"
      },
      "source": [
        "# Pre-Processing The Data:"
      ]
    },
    {
      "cell_type": "markdown",
      "metadata": {
        "id": "ltSSBF0g-33C"
      },
      "source": [
        "### Normalizing Numerical Data:"
      ]
    },
    {
      "cell_type": "code",
      "metadata": {
        "id": "oFyBs15N-_Ke"
      },
      "source": [
        "data[numXAttrs] = preprocessing.MinMaxScaler().fit_transform(concatData[numXAttrs]);"
      ],
      "execution_count": 484,
      "outputs": []
    },
    {
      "cell_type": "markdown",
      "metadata": {
        "id": "a6iNncNXEwhY"
      },
      "source": [
        "### Splitting The Input and Output Parts in the data:"
      ]
    },
    {
      "cell_type": "code",
      "metadata": {
        "id": "I0OEG7JRE1Pq"
      },
      "source": [
        "X = data[xAttrs];\n",
        "X.reset_index(drop=True, inplace=True);\n",
        "\n",
        "Y = data[yAttrs];\n",
        "Y = Y.replace(to_replace =[\" <=50K\",\" <=50K.\"], value =\"<=50K\");\n",
        "Y = Y.replace(to_replace =[\" >50K\",\" >50K.\"], value =\">50K\");\n",
        "Y.reset_index(drop=True, inplace=True);"
      ],
      "execution_count": 485,
      "outputs": []
    },
    {
      "cell_type": "markdown",
      "metadata": {
        "id": "TNDOwPnU4YIz"
      },
      "source": [
        "### PCA On Numerical Data:"
      ]
    },
    {
      "cell_type": "code",
      "metadata": {
        "id": "DBHXwulD4b1v"
      },
      "source": [
        "Ypca = Y;\n",
        "\n",
        "pca = PCA(0.90);\n",
        "pca.fit(X[numXAttrs]);\n",
        "XDimReduced = pca.transform(X[numAttrs]);\n",
        "\n",
        "print(\"Number of PCs for explaining the required variance is:\");\n",
        "print(XDimReduced.shape[1]);\n",
        "\n",
        "# Scree Plot!\n",
        "print(\"The Scree Plot:\");\n",
        "plt.plot(pca.explained_variance_ratio_);\n",
        "plt.ylabel('Explained Variance');\n",
        "plt.xlabel('Components');\n",
        "plt.show();\n",
        "\n",
        "\n",
        "Xpca = pd.DataFrame({'PC1':XDimReduced[:,0], 'PC2':XDimReduced[:,1], 'PC3':XDimReduced[:,2], 'PC4':XDimReduced[:,3], 'PC5':XDimReduced[:,4]});\n",
        "\n",
        "Xpca = pd.concat([X,Xpca],axis=1);\n",
        "XpcaAttrs = nominalXAttrs + [\"PC1\",\"PC2\",\"PC3\",\"PC4\",\"PC5\"];\n",
        "Xpca = Xpca[XpcaAttrs];\n",
        "print(\"Input data after reducing dimensions using PCA:\");\n",
        "print(Xpca.head());"
      ],
      "execution_count": null,
      "outputs": []
    },
    {
      "cell_type": "markdown",
      "metadata": {
        "id": "ZEhu9m4aELjx"
      },
      "source": [
        "### Correlation Between Nominal Variables:"
      ]
    },
    {
      "cell_type": "code",
      "metadata": {
        "id": "NeMrkfiQEPjA"
      },
      "source": [
        "XWithNominalAttrs = X[nominalXAttrs];\n",
        "correlationMatrixForNominalData = nominal.associations(XWithNominalAttrs, nominal_columns='all'); # Uses Correlation Ratio for finding the correlation!\n",
        "print(\"The above heatmap in matrix form:\");\n",
        "print(correlationMatrixForNominalData);\n",
        "\n",
        "# sex (gender) and relationship have a correlation of 0.65, hence eliminating relationship attribute from our data!\n",
        "XpcaAttrs.remove('relationship');\n",
        "Xpca = Xpca[XpcaAttrs];\n",
        "XpcaAttrs.append('relationship');\n",
        "print(\"Input data after reducing dimensions using PCA and Correlation:\");\n",
        "print(Xpca.head());\n",
        "\n",
        "# Ref: https://github.com/shakedzy/dython/issues/2"
      ],
      "execution_count": null,
      "outputs": []
    },
    {
      "cell_type": "markdown",
      "metadata": {
        "id": "0FxYxq90PLBV"
      },
      "source": [
        "### Encoding Ordinal Data:"
      ]
    },
    {
      "cell_type": "code",
      "metadata": {
        "id": "VGaTF_QzTuwA"
      },
      "source": [
        "X = pd.get_dummies(X,drop_first=True);\n",
        "Y = pd.get_dummies(Y,drop_first=True);\n",
        "X.reset_index(drop=True, inplace=True);\n",
        "Y.reset_index(drop=True, inplace=True);\n",
        "print(\"X shape:\");\n",
        "print(X.shape);\n",
        "print(\"X dtypes:\");\n",
        "print(X.dtypes);\n",
        "print(\"Y shape:\");\n",
        "print(Y.shape);\n",
        "print(\"Y dtypes:\");\n",
        "print(Y.dtypes);\n",
        "\n",
        "Xpca = pd.get_dummies(Xpca,drop_first=True);\n",
        "Ypca = pd.get_dummies(Ypca,drop_first=True);\n",
        "Xpca.reset_index(drop=True, inplace=True);\n",
        "Ypca.reset_index(drop=True, inplace=True);\n",
        "print(\"Xpca shape:\");\n",
        "print(Xpca.shape);\n",
        "print(\"Xpca dtypes:\");\n",
        "print(Xpca.dtypes);\n",
        "print(\"Ypca shape:\");\n",
        "print(Ypca.shape);\n",
        "print(\"Ypca dtypes:\");\n",
        "print(Ypca.dtypes);"
      ],
      "execution_count": null,
      "outputs": []
    },
    {
      "cell_type": "markdown",
      "metadata": {
        "id": "_5tJ6MfWaMTi"
      },
      "source": [
        "# KNN (Without Using PCA and Correlation):"
      ]
    },
    {
      "cell_type": "code",
      "metadata": {
        "id": "_VghyiOraOly"
      },
      "source": [
        "XTrain, XTest, YTrain, YTest = train_test_split(X, Y, test_size = 0.33, random_state=42);\n",
        "\n",
        "kValues = [50,100,250,500];\n",
        "accuracies = list();\n",
        "\n",
        "for k in kValues:\n",
        "  KNN = KNeighborsClassifier(n_neighbors=k);\n",
        "  KNN.fit(XTrain, YTrain);\n",
        "  accuracies.append(knn.score(XTest, YTest));\n",
        "\n",
        "fig, ax = plt.subplots(1)\n",
        "\n",
        "xAxisData = np.array(kValues)\n",
        "yAxisData = np.array(accuracies);\n",
        "yAxisData = yAxisData*100;\n",
        "\n",
        "ax.plot(xAxisData,yAxisData);\n",
        " \n",
        "ax.set_xticks(kValues);\n",
        "ax.set_xticklabels(kValues);"
      ],
      "execution_count": null,
      "outputs": []
    },
    {
      "cell_type": "markdown",
      "metadata": {
        "id": "WxB-pfzS0g-4"
      },
      "source": [
        "# KNN (With Using PCA and Correlation):\n",
        "\n"
      ]
    },
    {
      "cell_type": "code",
      "metadata": {
        "id": "ouGmpaehJEM7"
      },
      "source": [
        "XpcaTrain, XpcaTest, YpcaTrain, YpcaTest = train_test_split(Xpca, Ypca, test_size = 0.33, random_state=42);\n",
        "\n",
        "print(XpcaTrain.shape);\n",
        "print(XpcaTest.shape);\n",
        "print(YpcaTrain.shape);\n",
        "print(YpcaTest.shape);\n",
        "\n",
        "\n",
        "kValues = [50,100,250,500];\n",
        "accuracies = list();\n",
        "\n",
        "for k in kValues:\n",
        "  KNN = KNeighborsClassifier(n_neighbors=k);\n",
        "  KNN.fit(XpcaTrain, YpcaTrain);\n",
        "  accuracies.append(knn.score(XpcaTest, YpcaTest));\n",
        "\n",
        "fig, ax = plt.subplots(1)\n",
        "\n",
        "xAxisData = np.array(kValues)\n",
        "yAxisData = np.array(accuracies);\n",
        "yAxisData = yAxisData*100;\n",
        "\n",
        "ax.plot(xAxisData,yAxisData);\n",
        " \n",
        "ax.set_xticks(kValues);\n",
        "ax.set_xticklabels(kValues);"
      ],
      "execution_count": null,
      "outputs": []
    },
    {
      "cell_type": "code",
      "metadata": {
        "id": "MfHG9AnsUJsa"
      },
      "source": [
        ""
      ],
      "execution_count": null,
      "outputs": []
    }
  ]
}