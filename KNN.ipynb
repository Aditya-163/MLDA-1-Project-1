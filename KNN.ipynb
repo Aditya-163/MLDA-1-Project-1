{
  "nbformat": 4,
  "nbformat_minor": 0,
  "metadata": {
    "colab": {
      "name": "KNN.ipynb",
      "provenance": [],
      "collapsed_sections": []
    },
    "kernelspec": {
      "name": "python3",
      "display_name": "Python 3"
    },
    "language_info": {
      "name": "python"
    }
  },
  "cells": [
    {
      "cell_type": "markdown",
      "metadata": {
        "id": "Boj4gv6XLGkT"
      },
      "source": [
        "# Making Necessary Imports:"
      ]
    },
    {
      "cell_type": "code",
      "metadata": {
        "id": "rEgK6t_95uxU"
      },
      "source": [
        "import pandas as pd;\n",
        "import numpy as np;\n",
        "import heapq as hq;"
      ],
      "execution_count": 126,
      "outputs": []
    },
    {
      "cell_type": "markdown",
      "metadata": {
        "id": "DEKjmyz9K0-K"
      },
      "source": [
        "# Initializing the Constants to be Used in The Program: "
      ]
    },
    {
      "cell_type": "code",
      "metadata": {
        "id": "Kzh8lUNOCAfi"
      },
      "source": [
        "# \"adult.data\" file.\n",
        "inputDataURL = \"https://raw.githubusercontent.com/Aditya-163/MLDA-1-Project-1/main/Data/adult.data\"; \n",
        "# \"adult.test\" file.\n",
        "testDataURL = \"https://raw.githubusercontent.com/Aditya-163/MLDA-1-Project-1/main/Data/adult.test\";\n",
        "\n",
        "# Attributes in the data.\n",
        "colNames = [\"age\",\"workclass\",\"fnlwgt\",\"education\",\"education-num\",\"marital-status\",\"occupation\",\"relationship\",\"race\",\"sex\",\"captial-gain\",\"capital-loss\",\"hours-per-week\",\"native-country\",\"income\"]; "
      ],
      "execution_count": 127,
      "outputs": []
    },
    {
      "cell_type": "markdown",
      "metadata": {
        "id": "4S3mXX0kLPy2"
      },
      "source": [
        "# Reading The Required Data:"
      ]
    },
    {
      "cell_type": "code",
      "metadata": {
        "id": "rwmdGfPN54Nk",
        "colab": {
          "base_uri": "https://localhost:8080/"
        },
        "outputId": "f41383da-7387-49de-ed4b-bc9d369594ba"
      },
      "source": [
        "inputData = pd.read_csv(inputDataURL, names=colNames);\n",
        "print(\"Some rows from the input data are shown below:\");\n",
        "print(inputData);\n",
        "testData = pd.read_csv(testDataURL, names=colNames);"
      ],
      "execution_count": 128,
      "outputs": [
        {
          "output_type": "stream",
          "text": [
            "Some rows from the input data are shown below:\n",
            "       age          workclass  fnlwgt  ... hours-per-week  native-country  income\n",
            "0       39          State-gov   77516  ...             40   United-States   <=50K\n",
            "1       50   Self-emp-not-inc   83311  ...             13   United-States   <=50K\n",
            "2       38            Private  215646  ...             40   United-States   <=50K\n",
            "3       53            Private  234721  ...             40   United-States   <=50K\n",
            "4       28            Private  338409  ...             40            Cuba   <=50K\n",
            "...    ...                ...     ...  ...            ...             ...     ...\n",
            "32556   27            Private  257302  ...             38   United-States   <=50K\n",
            "32557   40            Private  154374  ...             40   United-States    >50K\n",
            "32558   58            Private  151910  ...             40   United-States   <=50K\n",
            "32559   22            Private  201490  ...             20   United-States   <=50K\n",
            "32560   52       Self-emp-inc  287927  ...             40   United-States    >50K\n",
            "\n",
            "[32561 rows x 15 columns]\n"
          ],
          "name": "stdout"
        }
      ]
    },
    {
      "cell_type": "markdown",
      "metadata": {
        "id": "pJg1NGAlLbdh"
      },
      "source": [
        "# Pre-Processing The Data:"
      ]
    },
    {
      "cell_type": "code",
      "metadata": {
        "id": "h77ki2CHGOxx"
      },
      "source": [
        "# Write code for pre-processing the data!\n",
        "# print(inputData[inputData[\"fnlwgt\"].eq(121772)][\"native-country\"]);\n",
        "# inputData[inputData[\"native-country\"].eq(\"?\")]\n",
        "\n",
        "#--------------------------------------------\n",
        "colNamesWithoutIncome = colNames;\n",
        "colNamesWithoutIncome.remove(\"income\")"
      ],
      "execution_count": 129,
      "outputs": []
    },
    {
      "cell_type": "markdown",
      "metadata": {
        "id": "xgkr8hUhQ0h5"
      },
      "source": [
        "# Information From the Data:"
      ]
    },
    {
      "cell_type": "code",
      "metadata": {
        "id": "3QbxkwqjQ4xP"
      },
      "source": [
        "# Ouput Some Information Regarding the Data, like: Size of the data, number of atteributes, \n",
        "# number of differen values of each attribue, mean/ median/ mode, number of data points corrected etc."
      ],
      "execution_count": 130,
      "outputs": []
    },
    {
      "cell_type": "markdown",
      "metadata": {
        "id": "rcmN1zgILzMt"
      },
      "source": [
        "# Utility Functions:"
      ]
    },
    {
      "cell_type": "markdown",
      "metadata": {
        "id": "NogRpI9EC87S"
      },
      "source": [
        "**Function to Compute the distance** between 2 data points:\n",
        "\n",
        "The function (**or metric**) used to compute the distance is:\n",
        "\n",
        "**WRITE THE FUNCTION/METRIC USED.**"
      ]
    },
    {
      "cell_type": "code",
      "metadata": {
        "id": "ywB0cUai853c"
      },
      "source": [
        "def distance(testDataRow, inputDataRow):\n",
        "  \n",
        "  dist = 0;\n",
        "\n",
        "  for attr in colNamesWithoutIncome:\n",
        "    break; # Write the actual code!\n",
        "  \n",
        "  return dist;\n"
      ],
      "execution_count": 131,
      "outputs": []
    },
    {
      "cell_type": "markdown",
      "metadata": {
        "id": "5axTJ0kMMAfj"
      },
      "source": [
        "**Function to Classify** a test data point:"
      ]
    },
    {
      "cell_type": "code",
      "metadata": {
        "id": "onBp4OkMIPGV"
      },
      "source": [
        "def classify(k, testDataRow, inputData):\n",
        "  \n",
        "  distances = list();\n",
        "  hq.heapify(distances);\n",
        "  computationNumber = 0;\n",
        "\n",
        "  for index, inputDataRow in inputData.iterrows():\n",
        "    distBtwPoints = distance(testDataRow,inputDataRow);\n",
        "    hq.heappush(distances,(distBtwPoints, computationNumber, inputDataPoint[\"income\"]));\n",
        "    computationNumber = cumputationNumber + 1;\n",
        "\n",
        "  numOfNNWithLessIncome = 0;\n",
        "  numOfNNWithMoreIncome = 0;\n",
        "\n",
        "  for i in range(k):\n",
        "    heapTuple = hq.heappop(distances);\n",
        "    if heapTuple[2] == encodedGreaterThanFTK:\n",
        "      numOfNNWithMoreIncome = numOfNNWithMoreIncome + 1;\n",
        "    else:\n",
        "      numOfNNWithLessIncome = numOfNNWithLessIncome + 1;\n",
        "  \n",
        "  if numOfNNWithLessIncome >= numOfNNWithMoreIncome:\n",
        "    return encodedLessThanOrEqualFTK;\n",
        "  else:\n",
        "    return encodedGreaterThanFTK;\n",
        "    "
      ],
      "execution_count": 132,
      "outputs": []
    },
    {
      "cell_type": "markdown",
      "metadata": {
        "id": "6WTXgqlrMGtK"
      },
      "source": [
        "**Function to perfrom KNN** classification for a given k, input data and the test data:"
      ]
    },
    {
      "cell_type": "code",
      "metadata": {
        "id": "D43_Ii-lHFeK"
      },
      "source": [
        "def knn(k,testData,inputData):\n",
        "\n",
        "  correctClassifications = 0;\n",
        "  wrongClassifications = 0;\n",
        "\n",
        "  for index, testDataRow in testData.iterrows():\n",
        "    classifiedClass = classify(k,testDataRow,inputData);\n",
        "    if classifiedClass == testDataRow[\"income\"]:\n",
        "      correctClassifications = correctClassifications + 1;\n",
        "    else:\n",
        "      wrongClassifications = wrongClassifications + 1;\n",
        "\n",
        "  accuracy = (correctClassifications*100)/(correctClassifications + wrongClassifications);\n",
        "  return accuracy;\n",
        "  "
      ],
      "execution_count": 133,
      "outputs": []
    },
    {
      "cell_type": "markdown",
      "metadata": {
        "id": "CCzwe9FVMYPv"
      },
      "source": [
        "**Function to Output the Results:**"
      ]
    },
    {
      "cell_type": "code",
      "metadata": {
        "id": "fu-T4pkbJjno"
      },
      "source": [
        "def showResults(accuracyAndKData): # accuracyAndKData should be of the form = (k,accuracyForK)\n",
        "\n",
        "  print(\"The observed accuracies of the k-NN classifier for different values of k are plotted below:\");\n",
        "  # Make a plot of k vs accuracy!\n",
        "\n",
        "  return ;\n"
      ],
      "execution_count": 134,
      "outputs": []
    },
    {
      "cell_type": "markdown",
      "metadata": {
        "id": "RTfQ1fG_NFXg"
      },
      "source": [
        "# Main (or the driver) code:"
      ]
    },
    {
      "cell_type": "markdown",
      "metadata": {
        "id": "h_V0D0bqI-_C"
      },
      "source": [
        "This is the **main** Python code that makes use of above funtions to perfrom KNN based classification with multiple different values of k."
      ]
    },
    {
      "cell_type": "code",
      "metadata": {
        "id": "B5Jg9TasC6WO"
      },
      "source": [
        "def main():\n",
        "\n",
        "  kAndAccuracy = list();\n",
        "  \n",
        "  kMin = 2;\n",
        "  kStep = 2;\n",
        "  kMax = 100;\n",
        "  \n",
        "  for k in range(kMin,kStep,kMax):\n",
        "    accuracy = knn(k,testData,inputData);\n",
        "    kAndAccuracy.append((k,accuracy));\n",
        "\n",
        "  showResults(kAndAccuracy);\n",
        "  \n",
        "  return ;\n",
        "  "
      ],
      "execution_count": 135,
      "outputs": []
    },
    {
      "cell_type": "markdown",
      "metadata": {
        "id": "2mdCB2YjONCy"
      },
      "source": [
        "# Calling The Main Function:"
      ]
    },
    {
      "cell_type": "code",
      "metadata": {
        "colab": {
          "base_uri": "https://localhost:8080/"
        },
        "id": "4askg0HNOLhL",
        "outputId": "3246cdfe-6161-40e0-bda0-00bc41bbb37d"
      },
      "source": [
        "main();\n"
      ],
      "execution_count": 137,
      "outputs": [
        {
          "output_type": "stream",
          "text": [
            "The observed accuracies of the k-NN classifier for different values of k are plotted below:\n"
          ],
          "name": "stdout"
        }
      ]
    }
  ]
}