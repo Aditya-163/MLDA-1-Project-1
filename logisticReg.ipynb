{
  "nbformat": 4,
  "nbformat_minor": 0,
  "metadata": {
    "colab": {
      "name": "logisticReg.ipynb",
      "provenance": [],
      "collapsed_sections": []
    },
    "kernelspec": {
      "name": "python3",
      "display_name": "Python 3"
    },
    "language_info": {
      "name": "python"
    }
  },
  "cells": [
    {
      "cell_type": "code",
      "metadata": {
        "colab": {
          "base_uri": "https://localhost:8080/"
        },
        "id": "1CFuYajWoaiJ",
        "outputId": "eda7504d-eb70-4521-c580-ed01f14d167e"
      },
      "source": [
        "!pip install dython"
      ],
      "execution_count": 44,
      "outputs": [
        {
          "output_type": "stream",
          "name": "stdout",
          "text": [
            "Requirement already satisfied: dython in /usr/local/lib/python3.7/dist-packages (0.6.8)\n",
            "Requirement already satisfied: scikit-learn in /usr/local/lib/python3.7/dist-packages (from dython) (0.22.2.post1)\n",
            "Requirement already satisfied: matplotlib in /usr/local/lib/python3.7/dist-packages (from dython) (3.2.2)\n",
            "Requirement already satisfied: seaborn in /usr/local/lib/python3.7/dist-packages (from dython) (0.11.2)\n",
            "Requirement already satisfied: scikit-plot>=0.3.7 in /usr/local/lib/python3.7/dist-packages (from dython) (0.3.7)\n",
            "Requirement already satisfied: scipy in /usr/local/lib/python3.7/dist-packages (from dython) (1.4.1)\n",
            "Requirement already satisfied: numpy in /usr/local/lib/python3.7/dist-packages (from dython) (1.19.5)\n",
            "Requirement already satisfied: pandas>=0.23.4 in /usr/local/lib/python3.7/dist-packages (from dython) (1.1.5)\n",
            "Requirement already satisfied: pytz>=2017.2 in /usr/local/lib/python3.7/dist-packages (from pandas>=0.23.4->dython) (2018.9)\n",
            "Requirement already satisfied: python-dateutil>=2.7.3 in /usr/local/lib/python3.7/dist-packages (from pandas>=0.23.4->dython) (2.8.2)\n",
            "Requirement already satisfied: six>=1.5 in /usr/local/lib/python3.7/dist-packages (from python-dateutil>=2.7.3->pandas>=0.23.4->dython) (1.15.0)\n",
            "Requirement already satisfied: joblib>=0.10 in /usr/local/lib/python3.7/dist-packages (from scikit-plot>=0.3.7->dython) (1.0.1)\n",
            "Requirement already satisfied: cycler>=0.10 in /usr/local/lib/python3.7/dist-packages (from matplotlib->dython) (0.10.0)\n",
            "Requirement already satisfied: pyparsing!=2.0.4,!=2.1.2,!=2.1.6,>=2.0.1 in /usr/local/lib/python3.7/dist-packages (from matplotlib->dython) (2.4.7)\n",
            "Requirement already satisfied: kiwisolver>=1.0.1 in /usr/local/lib/python3.7/dist-packages (from matplotlib->dython) (1.3.2)\n"
          ]
        }
      ]
    },
    {
      "cell_type": "code",
      "metadata": {
        "id": "MOYTSlG1oiDE"
      },
      "source": [
        "import pandas as pd;\n",
        "\n",
        "import numpy as np;\n",
        "\n",
        "from sklearn.preprocessing import LabelEncoder;\n",
        "from sklearn.decomposition import PCA;\n",
        "\n",
        "import matplotlib.pyplot as plt;\n",
        "\n",
        "import seaborn as sns;\n",
        "\n",
        "from sklearn import preprocessing;\n",
        "from sklearn.preprocessing import OneHotEncoder;\n",
        "from sklearn.linear_model import LogisticRegression;\n",
        "from sklearn.model_selection import train_test_split;\n",
        "\n",
        "from dython import nominal;\n",
        "\n",
        "# configs:\n",
        "pd.options.display.max_columns = None;"
      ],
      "execution_count": 45,
      "outputs": []
    },
    {
      "cell_type": "code",
      "metadata": {
        "id": "gAiC3e_UojYq"
      },
      "source": [
        "# \"adult.data\" file.\n",
        "inputDataURL = \"https://raw.githubusercontent.com/Aditya-163/MLDA-1-Project-1/main/Data/adult.data\"; \n",
        "# \"adult.test\" file.\n",
        "testDataURL = \"https://raw.githubusercontent.com/Aditya-163/MLDA-1-Project-1/main/Data/adult.test\";\n",
        "\n",
        "# Attributes in the data.\n",
        "allAttrs = [\"age\",\"workclass\",\"fnlwgt\",\"education\",\"education-num\",\"marital-status\",\"occupation\",\"relationship\",\"race\",\"sex\",\"capital-gain\",\"capital-loss\",\"hours-per-week\",\"native-country\",\"income\"]; \n",
        "xAttrs = [\"age\",\"workclass\",\"fnlwgt\",\"education\",\"education-num\",\"marital-status\",\"occupation\",\"relationship\",\"race\",\"sex\",\"capital-gain\",\"capital-loss\",\"hours-per-week\",\"native-country\"];\n",
        "yAttrs = [\"income\"];\n",
        "\n",
        "# Numerical Attributes:\n",
        "numXAttrs = [\"age\",\"fnlwgt\",\"education-num\",\"capital-gain\",\"capital-loss\",\"hours-per-week\"];\n",
        "\n",
        "# Nominal Attributes:\n",
        "nominalXAttrs = [\"workclass\",\"education\",\"marital-status\",\"occupation\",\"relationship\",\"race\",\"sex\",\"native-country\"];"
      ],
      "execution_count": 46,
      "outputs": []
    },
    {
      "cell_type": "markdown",
      "metadata": {
        "id": "sDdExTbOooDm"
      },
      "source": [
        "#Reading The Data"
      ]
    },
    {
      "cell_type": "code",
      "metadata": {
        "id": "XwMfGl_eomMK"
      },
      "source": [
        "# Training Data.\n",
        "inputData = pd.read_csv(inputDataURL, names=allAttrs, na_values=\" ?\");\n",
        "inputData = inputData.dropna();\n",
        "\n",
        "# Test Data.\n",
        "testData = pd.read_csv(testDataURL, names=allAttrs, na_values=\" ?\");\n",
        "testData = testData.dropna();\n",
        "\n",
        "# Concataneted Data\n",
        "data = pd.concat([inputData,testData]);\n",
        "\n",
        "data = data.replace(to_replace =[\" <=50K\",\" <=50K.\"], value =\"<=50K\");\n",
        "data = data.replace(to_replace =[\" >50K\",\" >50K.\"], value =\">50K\");"
      ],
      "execution_count": 47,
      "outputs": []
    },
    {
      "cell_type": "markdown",
      "metadata": {
        "id": "KsilAqenovKD"
      },
      "source": [
        "#Normalizing The Data"
      ]
    },
    {
      "cell_type": "code",
      "metadata": {
        "id": "HW6l1TIZotHk"
      },
      "source": [
        "data[numXAttrs] = preprocessing.MinMaxScaler().fit_transform(data[numXAttrs]);"
      ],
      "execution_count": 48,
      "outputs": []
    },
    {
      "cell_type": "markdown",
      "metadata": {
        "id": "vuS2tztVo0qw"
      },
      "source": [
        "#Splitting The Inputs and Outputs from The Data"
      ]
    },
    {
      "cell_type": "code",
      "metadata": {
        "id": "LSAweehdoydH"
      },
      "source": [
        "X = data[xAttrs];\n",
        "X.reset_index(drop=True, inplace=True);\n",
        "\n",
        "Y = data[yAttrs];\n",
        "Y.reset_index(drop=True, inplace=True);"
      ],
      "execution_count": 49,
      "outputs": []
    },
    {
      "cell_type": "markdown",
      "metadata": {
        "id": "2vdj3kOeo-FF"
      },
      "source": [
        "#PCA on Numerical Attributes"
      ]
    },
    {
      "cell_type": "code",
      "metadata": {
        "id": "900qQgFYo7FJ"
      },
      "source": [
        "Ypca = Y;\n",
        "\n",
        "pca = PCA(0.90);\n",
        "pca.fit(X[numXAttrs]);\n",
        "XDimReduced = pca.transform(X[numXAttrs]);\n",
        "\n",
        "Xpca = pd.DataFrame({'PC1':XDimReduced[:,0], 'PC2':XDimReduced[:,1], 'PC3':XDimReduced[:,2], 'PC4':XDimReduced[:,3], 'PC5':XDimReduced[:,4]});\n",
        "\n",
        "Xpca = pd.concat([X,Xpca],axis=1);\n",
        "XpcaAttrs = nominalXAttrs + [\"PC1\",\"PC2\",\"PC3\",\"PC4\",\"PC5\"];\n",
        "Xpca = Xpca[XpcaAttrs];"
      ],
      "execution_count": 50,
      "outputs": []
    },
    {
      "cell_type": "markdown",
      "metadata": {
        "id": "UhitIVappDa2"
      },
      "source": [
        "#Covariance Between Nominal Variables"
      ]
    },
    {
      "cell_type": "code",
      "metadata": {
        "colab": {
          "base_uri": "https://localhost:8080/",
          "height": 332
        },
        "id": "WhgjGvdcpBT6",
        "outputId": "7f6d7569-95c6-41f7-cc04-110b3cda895a"
      },
      "source": [
        "XWithNominalAttrs = X[nominalXAttrs];\n",
        "correlationMatrixForNominalData = nominal.associations(XWithNominalAttrs, nominal_columns='all'); # Uses Correlation Ratio for finding the correlation!\n",
        "\n",
        "# sex (gender) and relationship have a correlation of 0.65, hence eliminating relationship attribute from our data!\n",
        "XpcaAttrs.remove('relationship');\n",
        "Xpca = Xpca[XpcaAttrs];\n",
        "XpcaAttrs.append('relationship');\n",
        "\n",
        "# Ref: https://github.com/shakedzy/dython/issues/2"
      ],
      "execution_count": 51,
      "outputs": [
        {
          "output_type": "display_data",
          "data": {
            "image/png": "[encoded data removed]",
            "text/plain": [
              "<Figure size 432x288 with 2 Axes>"
            ]
          },
          "metadata": {
            "needs_background": "light"
          }
        }
      ]
    },
    {
      "cell_type": "markdown",
      "metadata": {
        "id": "0MuB8OIypLga"
      },
      "source": [
        "# Encoding Nominal Attributes in Original Data:"
      ]
    },
    {
      "cell_type": "code",
      "metadata": {
        "id": "zl0LVe5qpHrA"
      },
      "source": [
        "X = pd.get_dummies(X,drop_first=True);\n",
        "Y = pd.get_dummies(Y,drop_first=True);\n",
        "X.reset_index(drop=True, inplace=True);\n",
        "Y.reset_index(drop=True, inplace=True);\n",
        "\n",
        "Xpca = pd.get_dummies(Xpca,drop_first=True);\n",
        "Ypca = pd.get_dummies(Ypca,drop_first=True);\n",
        "Xpca.reset_index(drop=True, inplace=True);\n",
        "Ypca.reset_index(drop=True, inplace=True);"
      ],
      "execution_count": 52,
      "outputs": []
    },
    {
      "cell_type": "markdown",
      "metadata": {
        "id": "zSLwIxHjpQL3"
      },
      "source": [
        "# Logistic Regression Based Binary Classification (Without PCA and Correlation): "
      ]
    },
    {
      "cell_type": "code",
      "metadata": {
        "colab": {
          "base_uri": "https://localhost:8080/"
        },
        "id": "6AI8lfa5pNMN",
        "outputId": "7211bb2d-c1b3-47cd-b377-806df43a718a"
      },
      "source": [
        "# For [X, Y]:\n",
        "print(\"Actual Output classes are:\");\n",
        "print(Y);\n",
        "print(\"-------------------------------------------\");\n",
        "\n",
        "# Binary Classification Using the Logistic Regression:\n",
        "XTrain, XTest, YTrain, YTest = train_test_split(X, Y, test_size=0.33, random_state=0);\n",
        "# all parameters not specified are set to their defaults\n",
        "logisticRegr = LogisticRegression();\n",
        "logisticRegr.fit(XTrain, YTrain);\n",
        "\n",
        "acc = logisticRegr.score(XTest, YTest);\n",
        "\n",
        "# Computing The Accuracy of The Classification:\n",
        "print(\"The accuracy of the Binary Classification is:\");\n",
        "print(acc);"
      ],
      "execution_count": 53,
      "outputs": [
        {
          "output_type": "stream",
          "name": "stdout",
          "text": [
            "Actual Output classes are:\n",
            "       income_>50K\n",
            "0                0\n",
            "1                0\n",
            "2                0\n",
            "3                0\n",
            "4                0\n",
            "...            ...\n",
            "45217            0\n",
            "45218            0\n",
            "45219            0\n",
            "45220            0\n",
            "45221            1\n",
            "\n",
            "[45222 rows x 1 columns]\n",
            "-------------------------------------------\n"
          ]
        },
        {
          "output_type": "stream",
          "name": "stderr",
          "text": [
            "/usr/local/lib/python3.7/dist-packages/sklearn/utils/validation.py:760: DataConversionWarning: A column-vector y was passed when a 1d array was expected. Please change the shape of y to (n_samples, ), for example using ravel().\n",
            "  y = column_or_1d(y, warn=True)\n"
          ]
        },
        {
          "output_type": "stream",
          "name": "stdout",
          "text": [
            "The accuracy of the Binary Classification is:\n",
            "0.8482310372554275\n"
          ]
        },
        {
          "output_type": "stream",
          "name": "stderr",
          "text": [
            "/usr/local/lib/python3.7/dist-packages/sklearn/linear_model/_logistic.py:940: ConvergenceWarning: lbfgs failed to converge (status=1):\n",
            "STOP: TOTAL NO. of ITERATIONS REACHED LIMIT.\n",
            "\n",
            "Increase the number of iterations (max_iter) or scale the data as shown in:\n",
            "    https://scikit-learn.org/stable/modules/preprocessing.html\n",
            "Please also refer to the documentation for alternative solver options:\n",
            "    https://scikit-learn.org/stable/modules/linear_model.html#logistic-regression\n",
            "  extra_warning_msg=_LOGISTIC_SOLVER_CONVERGENCE_MSG)\n"
          ]
        }
      ]
    },
    {
      "cell_type": "markdown",
      "metadata": {
        "id": "HHhmav06pUfF"
      },
      "source": [
        "# Logistic Regression Based Binary Classification (With PCA and Correlation):"
      ]
    },
    {
      "cell_type": "code",
      "metadata": {
        "colab": {
          "base_uri": "https://localhost:8080/"
        },
        "id": "jZUWuXn3pSE-",
        "outputId": "ed26aa48-4185-4092-a1ec-d6a94fcb9bd7"
      },
      "source": [
        "# For [Xpca, Ypca]:\n",
        "print(\"Actual Output classes after PCA and Coorelation analysis are:\");\n",
        "print(Ypca);\n",
        "print(\"-------------------------------------------\");\n",
        "\n",
        "# Binary Classification Using the Logistic Regression:\n",
        "XPcaTrain, XPcaTest, YPcaTrain, YPcaTest = train_test_split(Xpca, Ypca, test_size=0.33, random_state=0);\n",
        "# all parameters not specified are set to their defaults\n",
        "logisticRegrPca = LogisticRegression();\n",
        "logisticRegrPca.fit(XPcaTrain, YPcaTrain);\n",
        "\n",
        "accPca = logisticRegrPca.score(XPcaTest, YPcaTest);\n",
        "\n",
        "# Computing The Accuracy of The Classification:\n",
        "print(\"The accuracy of the Binary Classification is:\");\n",
        "print(accPca);"
      ],
      "execution_count": 54,
      "outputs": [
        {
          "output_type": "stream",
          "name": "stderr",
          "text": [
            "/usr/local/lib/python3.7/dist-packages/sklearn/utils/validation.py:760: DataConversionWarning: A column-vector y was passed when a 1d array was expected. Please change the shape of y to (n_samples, ), for example using ravel().\n",
            "  y = column_or_1d(y, warn=True)\n"
          ]
        },
        {
          "output_type": "stream",
          "name": "stdout",
          "text": [
            "Actual Output classes after PCA and Coorelation analysis are:\n",
            "       income_>50K\n",
            "0                0\n",
            "1                0\n",
            "2                0\n",
            "3                0\n",
            "4                0\n",
            "...            ...\n",
            "45217            0\n",
            "45218            0\n",
            "45219            0\n",
            "45220            0\n",
            "45221            1\n",
            "\n",
            "[45222 rows x 1 columns]\n",
            "-------------------------------------------\n",
            "The accuracy of the Binary Classification is:\n",
            "0.8466898954703833\n"
          ]
        },
        {
          "output_type": "stream",
          "name": "stderr",
          "text": [
            "/usr/local/lib/python3.7/dist-packages/sklearn/linear_model/_logistic.py:940: ConvergenceWarning: lbfgs failed to converge (status=1):\n",
            "STOP: TOTAL NO. of ITERATIONS REACHED LIMIT.\n",
            "\n",
            "Increase the number of iterations (max_iter) or scale the data as shown in:\n",
            "    https://scikit-learn.org/stable/modules/preprocessing.html\n",
            "Please also refer to the documentation for alternative solver options:\n",
            "    https://scikit-learn.org/stable/modules/linear_model.html#logistic-regression\n",
            "  extra_warning_msg=_LOGISTIC_SOLVER_CONVERGENCE_MSG)\n"
          ]
        }
      ]
    }
  ]
}